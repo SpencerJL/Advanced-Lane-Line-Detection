{
 "cells": [
  {
   "cell_type": "code",
   "execution_count": 1,
   "metadata": {},
   "outputs": [
    {
     "name": "stdout",
     "output_type": "stream",
     "text": [
      "[MoviePy] >>>> Building video D:/Box Sync/Self_Driving/LaneLines/CarND-LaneLines-P1-master/test_videos/solidWhiteRight_results.mp4\n",
      "[MoviePy] Writing video D:/Box Sync/Self_Driving/LaneLines/CarND-LaneLines-P1-master/test_videos/solidWhiteRight_results.mp4\n"
     ]
    },
    {
     "name": "stderr",
     "output_type": "stream",
     "text": [
      "100%|███████████████████████████████████████▊| 221/222 [00:02<00:00, 74.14it/s]\n"
     ]
    },
    {
     "name": "stdout",
     "output_type": "stream",
     "text": [
      "[MoviePy] Done.\n",
      "[MoviePy] >>>> Video ready: D:/Box Sync/Self_Driving/LaneLines/CarND-LaneLines-P1-master/test_videos/solidWhiteRight_results.mp4 \n",
      "\n"
     ]
    }
   ],
   "source": [
    "from moviepy.editor import VideoFileClip\n",
    "import matplotlib.pyplot as plt\n",
    "import matplotlib.image as mplimg\n",
    "import numpy as np\n",
    "import cv2\n",
    "\n",
    "blur_ksize = 5  # Gaussian blur kernel size\n",
    "low_threshold = 50  # Canny edge detection low threshold\n",
    "high_threshold = 150  # Canny edge detection high threshold\n",
    "\n",
    "# Hough transform parameters\n",
    "rho = 1\n",
    "theta = np.pi / 180\n",
    "threshold = 15\n",
    "min_line_length = 40\n",
    "max_line_gap = 20\n",
    "\n",
    "def region_of_interest(img, vertices):\n",
    "  mask = np.zeros_like(img)\n",
    "\n",
    "  #defining a 3 channel or 1 channel color to fill the mask with depending on the input image\n",
    "  if len(img.shape) > 2:\n",
    "    channel_count = img.shape[2]  # i.e. 3 or 4 depending on your image\n",
    "    ignore_mask_color = (255,) * channel_count\n",
    "  else:\n",
    "    ignore_mask_color = 255\n",
    "\n",
    "  cv2.fillPoly(mask, vertices, ignore_mask_color)\n",
    "  masked_img = cv2.bitwise_and(img, mask)\n",
    "  return masked_img\n",
    "\n",
    "\n",
    "\n",
    "def draw_lines(img, lines, color=[255, 0, 0], thickness=2):\n",
    "  for line in lines:\n",
    "    for x1, y1, x2, y2 in line:\n",
    "      cv2.line(img, (x1, y1), (x2, y2), color, thickness)  \n",
    "    \n",
    "\n",
    "\n",
    "def hough_lines(img, rho, theta, threshold, min_line_len, max_line_gap):\n",
    "  lines = cv2.HoughLinesP(img, rho, theta, threshold, np.array([]), minLineLength=min_line_len, maxLineGap=max_line_gap)\n",
    "  line_img = np.zeros((img.shape[0], img.shape[1], 3), dtype=np.uint8)\n",
    "  #draw_lines(line_img,lines)\n",
    "  draw_lanes(line_img, lines)\n",
    "  return line_img    \n",
    "    \n",
    "def draw_lanes(img, lines, color=[255, 0, 0], thickness=8):\n",
    "  left_lines, right_lines = [], []\n",
    "  for line in lines:\n",
    "    for x1, y1, x2, y2 in line:\n",
    "      k = (y2 - y1) / (x2 - x1)\n",
    "      if k < 0:\n",
    "        left_lines.append(line)\n",
    "      else:\n",
    "        right_lines.append(line)\n",
    "  \n",
    "  if (len(left_lines) <= 0 or len(right_lines) <= 0):\n",
    "   return img\n",
    "\n",
    "\n",
    "  left_points = [(x1, y1) for line in left_lines for x1,y1,x2,y2 in line]\n",
    "  left_points = left_points + [(x2, y2) for line in left_lines for x1,y1,x2,y2 in line]\n",
    "  right_points = [(x1, y1) for line in right_lines for x1,y1,x2,y2 in line]\n",
    "  right_points = right_points + [(x2, y2) for line in right_lines for x1,y1,x2,y2 in line]\n",
    "  left_vertices = calculation_lane_vertices(left_points, 325, img.shape[0])\n",
    "  right_vertices = calculation_lane_vertices(right_points, 325, img.shape[0])\n",
    "  cv2.line(img, left_vertices[0], left_vertices[1], color, thickness)\n",
    "  cv2.line(img, right_vertices[0], right_vertices[1], color, thickness)\n",
    "   \n",
    "    \n",
    "def calculation_lane_vertices(point_list, ymin, ymax):\n",
    "  x = [p[0] for p in point_list]\n",
    "  y = [p[1] for p in point_list]\n",
    "  fit = np.polyfit(y, x, 1)\n",
    "  fit_fn = np.poly1d(fit)\n",
    "  \n",
    "  xmin = int(fit_fn(ymin))\n",
    "  xmax = int(fit_fn(ymax))\n",
    "  \n",
    "  return [(xmin, ymin), (xmax, ymax)]\n",
    " \n",
    "\n",
    "def process_an_image(img):\n",
    "  roi_vtx = np.array([[(0, img.shape[0]), (460, 325), (520, 325), (img.shape[1], img.shape[0])]])\n",
    "\n",
    "  gray = cv2.cvtColor(img, cv2.COLOR_RGB2GRAY)\n",
    "  blur_gray = cv2.GaussianBlur(gray, (blur_ksize, blur_ksize), 0, 0)\n",
    "  edges = cv2.Canny(blur_gray, low_threshold, high_threshold)\n",
    "  roi_edges = region_of_interest(edges, roi_vtx)\n",
    "  line_img = hough_lines(roi_edges, rho, theta, threshold, min_line_length, max_line_gap)\n",
    "  result_img = cv2.addWeighted(img, 0.8, line_img, 1, 0)\n",
    "  \n",
    "  return result_img\n",
    " \n",
    "\n",
    "output = 'D:/Box Sync/Self_Driving/LaneLines/CarND-LaneLines-P1-master/test_videos/solidWhiteRight_results.mp4'\n",
    "clip = VideoFileClip(\"D:/Box Sync/Self_Driving/LaneLines/CarND-LaneLines-P1-master/test_videos/solidWhiteRight.mp4\")\n",
    "out_clip = clip.fl_image(process_an_image)\n",
    "out_clip.write_videofile(output, audio=False)"
   ]
  },
  {
   "cell_type": "code",
   "execution_count": null,
   "metadata": {},
   "outputs": [],
   "source": []
  },
  {
   "cell_type": "code",
   "execution_count": null,
   "metadata": {},
   "outputs": [],
   "source": []
  }
 ],
 "metadata": {
  "kernelspec": {
   "display_name": "Python 3",
   "language": "python",
   "name": "python3"
  },
  "language_info": {
   "codemirror_mode": {
    "name": "ipython",
    "version": 3
   },
   "file_extension": ".py",
   "mimetype": "text/x-python",
   "name": "python",
   "nbconvert_exporter": "python",
   "pygments_lexer": "ipython3",
   "version": "3.5.2"
  },
  "widgets": {
   "state": {},
   "version": "1.1.2"
  }
 },
 "nbformat": 4,
 "nbformat_minor": 2
}
